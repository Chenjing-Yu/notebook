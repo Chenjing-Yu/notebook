{
 "cells": [
  {
   "cell_type": "code",
   "execution_count": 2,
   "metadata": {},
   "outputs": [],
   "source": [
    "import numpy as np\n",
    "import pandas as pd\n",
    "import resource as rs"
   ]
  },
  {
   "cell_type": "markdown",
   "metadata": {},
   "source": [
    "### resource.getrusage(who)\n",
    "This function returns an object that describes the resources consumed by either the current process or its children, as specified by the who parameter. The who parameter should be specified using one of the RUSAGE_* constants described below.\n",
    "\n",
    "#### return fields\n",
    "[doc](https://docs.python.org/3/library/resource.html)\n",
    "\n",
    "#### parameter\n",
    "\n",
    "_resource.RUSAGE_SELF_\n",
    "\n",
    "Pass to getrusage() to request resources consumed by the calling process, which is the sum of resources used by all threads in the process.\n",
    "\n",
    "\n",
    "_resource.RUSAGE_CHILDREN_\n",
    "\n",
    "Pass to getrusage() to request resources consumed by child processes of the calling process which have been terminated and waited for.\n",
    "\n",
    "\n",
    "_resource.RUSAGE_BOTH_\n",
    "\n",
    "Pass to getrusage() to request resources consumed by both the current process and child processes. May not be available on all systems.\n",
    "\n",
    "\n",
    "_resource.RUSAGE_THREAD_\n",
    "\n",
    "Pass to getrusage() to request resources consumed by the current thread. May not be available on all systems.\n",
    "\n",
    "New in version 3.2."
   ]
  },
  {
   "cell_type": "code",
   "execution_count": 3,
   "metadata": {},
   "outputs": [
    {
     "data": {
      "text/plain": [
       "resource.struct_rusage(ru_utime=0.9340879999999999, ru_stime=0.373893, ru_maxrss=84828160, ru_ixrss=0, ru_idrss=0, ru_isrss=0, ru_minflt=31673, ru_majflt=1284, ru_nswap=0, ru_inblock=0, ru_oublock=0, ru_msgsnd=191, ru_msgrcv=163, ru_nsignals=0, ru_nvcsw=2661, ru_nivcsw=1758)"
      ]
     },
     "execution_count": 3,
     "metadata": {},
     "output_type": "execute_result"
    }
   ],
   "source": [
    "rs.getrusage(rs.RUSAGE_SELF)"
   ]
  },
  {
   "cell_type": "code",
   "execution_count": null,
   "metadata": {},
   "outputs": [],
   "source": []
  }
 ],
 "metadata": {
  "kernelspec": {
   "display_name": "Python 3",
   "language": "python",
   "name": "python3"
  },
  "language_info": {
   "codemirror_mode": {
    "name": "ipython",
    "version": 3
   },
   "file_extension": ".py",
   "mimetype": "text/x-python",
   "name": "python",
   "nbconvert_exporter": "python",
   "pygments_lexer": "ipython3",
   "version": "3.7.3"
  }
 },
 "nbformat": 4,
 "nbformat_minor": 2
}
